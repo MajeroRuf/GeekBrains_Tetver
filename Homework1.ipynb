{
  "nbformat": 4,
  "nbformat_minor": 0,
  "metadata": {
    "colab": {
      "name": "Homework1.ipynb",
      "provenance": [],
      "collapsed_sections": []
    },
    "kernelspec": {
      "name": "python3",
      "display_name": "Python 3"
    },
    "language_info": {
      "name": "python"
    }
  },
  "cells": [
    {
      "cell_type": "code",
      "metadata": {
        "id": "xmBBMWgjezGP"
      },
      "source": [
        "import numpy as np"
      ],
      "execution_count": 2,
      "outputs": []
    },
    {
      "cell_type": "markdown",
      "metadata": {
        "id": "gUHo5Y8ajSeQ"
      },
      "source": [
        "##Задача 1##"
      ]
    },
    {
      "cell_type": "markdown",
      "metadata": {
        "id": "lx8W0drLjX99"
      },
      "source": [
        "###Группа студентов изучает 10 различных дисциплин. Сколькими способами можно составить расписание на понедельник, если в этот день должно быть 4 разных занятия?###"
      ]
    },
    {
      "cell_type": "markdown",
      "metadata": {
        "id": "9KIv3kbgnFeC"
      },
      "source": [
        "Нам важен состав и порядок занятий, поэтому размещение."
      ]
    },
    {
      "cell_type": "markdown",
      "metadata": {
        "id": "EzhYFlcenhEm"
      },
      "source": [
        "$A^k_n=\\frac{n!}{(n-k)!}$\n",
        "\n",
        "$A^4_{10}=\\frac{10!}{(10-4)!}$"
      ]
    },
    {
      "cell_type": "code",
      "metadata": {
        "id": "QeI1tB1yjcPS"
      },
      "source": [
        "def arrangements(n, k):\n",
        "    return np.math.factorial(n) // np.math.factorial(n - k)"
      ],
      "execution_count": 3,
      "outputs": []
    },
    {
      "cell_type": "code",
      "metadata": {
        "colab": {
          "base_uri": "https://localhost:8080/"
        },
        "id": "W1xm8zhmpNv0",
        "outputId": "d546e376-7739-4fbb-a0c5-12d6f16aff22"
      },
      "source": [
        "arrangements(10, 4)"
      ],
      "execution_count": 4,
      "outputs": [
        {
          "output_type": "execute_result",
          "data": {
            "text/plain": [
              "5040"
            ]
          },
          "metadata": {},
          "execution_count": 4
        }
      ]
    },
    {
      "cell_type": "markdown",
      "metadata": {
        "id": "UBvPojutpqGD"
      },
      "source": [
        "##Задача 2##"
      ]
    },
    {
      "cell_type": "markdown",
      "metadata": {
        "id": "MrDjiW6qpuV_"
      },
      "source": [
        "###Из колоды в 52 карты вынимают случайным образом 4 карты. Найти число исходов, соответствующих тому, что был вытянут хотя бы один туз.###"
      ]
    },
    {
      "cell_type": "code",
      "metadata": {
        "id": "Z0hLCxH5uOAL"
      },
      "source": [
        "def combinations(n, k):\n",
        "    return np.math.factorial(n) // (np.math.factorial(k) * np.math.factorial(n - k))"
      ],
      "execution_count": 5,
      "outputs": []
    },
    {
      "cell_type": "markdown",
      "metadata": {
        "id": "r8B5TBiQuPx_"
      },
      "source": [
        "1. Колличество комбинаций вытянуть 4 карты"
      ]
    },
    {
      "cell_type": "code",
      "metadata": {
        "id": "FpHyeRPWufXk"
      },
      "source": [
        "n = combinations(52, 4)"
      ],
      "execution_count": 6,
      "outputs": []
    },
    {
      "cell_type": "code",
      "metadata": {
        "colab": {
          "base_uri": "https://localhost:8080/"
        },
        "id": "FQnfYfSFynpf",
        "outputId": "c0f48160-287e-43a9-dc30-398c367293e8"
      },
      "source": [
        "n"
      ],
      "execution_count": 7,
      "outputs": [
        {
          "output_type": "execute_result",
          "data": {
            "text/plain": [
              "270725"
            ]
          },
          "metadata": {},
          "execution_count": 7
        }
      ]
    },
    {
      "cell_type": "markdown",
      "metadata": {
        "id": "jVQiPzSgutwk"
      },
      "source": [
        "2. Число способов выбрать 4 карты, среди которых нет туза"
      ]
    },
    {
      "cell_type": "code",
      "metadata": {
        "id": "vQelTLRkwzL2"
      },
      "source": [
        "m = combinations(48, 4)"
      ],
      "execution_count": 8,
      "outputs": []
    },
    {
      "cell_type": "code",
      "metadata": {
        "colab": {
          "base_uri": "https://localhost:8080/"
        },
        "id": "mN792YV1yp9j",
        "outputId": "629ec799-95e5-4e83-e0a4-7ffdf744e65f"
      },
      "source": [
        "m"
      ],
      "execution_count": 9,
      "outputs": [
        {
          "output_type": "execute_result",
          "data": {
            "text/plain": [
              "194580"
            ]
          },
          "metadata": {},
          "execution_count": 9
        }
      ]
    },
    {
      "cell_type": "markdown",
      "metadata": {
        "id": "kSUMphmRvBxy"
      },
      "source": [
        "3. Вероятность не вытащить ни одного туза\n"
      ]
    },
    {
      "cell_type": "code",
      "metadata": {
        "id": "Aa8W8BPRu67H"
      },
      "source": [
        "p= m/n\n"
      ],
      "execution_count": 10,
      "outputs": []
    },
    {
      "cell_type": "code",
      "metadata": {
        "colab": {
          "base_uri": "https://localhost:8080/"
        },
        "id": "uqUqaLyczET0",
        "outputId": "724bbf5b-8943-42d9-84c7-8cb2784c69cb"
      },
      "source": [
        "p"
      ],
      "execution_count": 11,
      "outputs": [
        {
          "output_type": "execute_result",
          "data": {
            "text/plain": [
              "0.7187367254594146"
            ]
          },
          "metadata": {},
          "execution_count": 11
        }
      ]
    },
    {
      "cell_type": "markdown",
      "metadata": {
        "id": "5qV12VQDy4Ef"
      },
      "source": [
        "4. Вероятность вытащить хотябы одного туза"
      ]
    },
    {
      "cell_type": "code",
      "metadata": {
        "colab": {
          "base_uri": "https://localhost:8080/"
        },
        "id": "1Oq5TECVzHeP",
        "outputId": "742b9bd3-c315-45a5-86bd-80ba8e6049c5"
      },
      "source": [
        "1-p"
      ],
      "execution_count": 12,
      "outputs": [
        {
          "output_type": "execute_result",
          "data": {
            "text/plain": [
              "0.2812632745405854"
            ]
          },
          "metadata": {},
          "execution_count": 12
        }
      ]
    },
    {
      "cell_type": "markdown",
      "metadata": {
        "id": "a_qBJBGuzdRw"
      },
      "source": [
        "##Задача 3##"
      ]
    },
    {
      "cell_type": "markdown",
      "metadata": {
        "id": "xlIcSUuKzitw"
      },
      "source": [
        "Семь человек рассаживаются наудачу на скамейке. Какова вероятность того, что два определённых человека будут сидеть рядом?"
      ]
    },
    {
      "cell_type": "markdown",
      "metadata": {
        "id": "UmDz_v7Wi1Fr"
      },
      "source": [
        "Любая пара может сесть 2-мя способами. Всего пар 7-1=6. Одна пара села вместе, остальные 5 пар мугут сесть любым способом 5!\n",
        "$P=\\frac{m}{n}$\n",
        "\n",
        "$P=\\frac{2*6*5!}{7!}=\\frac{2}{7}$"
      ]
    },
    {
      "cell_type": "markdown",
      "metadata": {
        "id": "FlKttuAKlLkz"
      },
      "source": [
        "##Задача 4##"
      ]
    },
    {
      "cell_type": "markdown",
      "metadata": {
        "id": "ih5WOHxvlQwn"
      },
      "source": [
        "Из 60 вопросов, входящих в экзаменационные билеты, студент знает 50. Какова вероятность того, что среди трёх наугад выбранных вопросов студент знает: а) все? б) два?"
      ]
    },
    {
      "cell_type": "markdown",
      "metadata": {
        "id": "flVLR_otoBXe"
      },
      "source": [
        "a) Студент знает все вопросы.\n"
      ]
    },
    {
      "cell_type": "markdown",
      "metadata": {
        "id": "eE4WjUh7pN54"
      },
      "source": [
        "$P=\\frac{m}{n}$"
      ]
    },
    {
      "cell_type": "markdown",
      "metadata": {
        "id": "_ljsw7qFpb1F"
      },
      "source": [
        "n- все исходы"
      ]
    },
    {
      "cell_type": "code",
      "metadata": {
        "id": "dMxF2yRQpIyQ"
      },
      "source": [
        "n = combinations(60, 3)"
      ],
      "execution_count": 13,
      "outputs": []
    },
    {
      "cell_type": "code",
      "metadata": {
        "colab": {
          "base_uri": "https://localhost:8080/"
        },
        "id": "tSrlYgQ2pqZG",
        "outputId": "6acca9ef-f991-4d96-ce7a-d7c377f0e98a"
      },
      "source": [
        "n"
      ],
      "execution_count": 15,
      "outputs": [
        {
          "output_type": "execute_result",
          "data": {
            "text/plain": [
              "34220"
            ]
          },
          "metadata": {},
          "execution_count": 15
        }
      ]
    },
    {
      "cell_type": "markdown",
      "metadata": {
        "id": "auEmbtTdp0Pg"
      },
      "source": [
        "m - число благоприятных исходов"
      ]
    },
    {
      "cell_type": "code",
      "metadata": {
        "id": "G92Vzrfgp6xi"
      },
      "source": [
        "m = combinations(50, 3)"
      ],
      "execution_count": 16,
      "outputs": []
    },
    {
      "cell_type": "code",
      "metadata": {
        "colab": {
          "base_uri": "https://localhost:8080/"
        },
        "id": "7zdcg1ViqBDz",
        "outputId": "8653c47d-2e37-43df-9583-1aef5cd83356"
      },
      "source": [
        "m"
      ],
      "execution_count": 17,
      "outputs": [
        {
          "output_type": "execute_result",
          "data": {
            "text/plain": [
              "19600"
            ]
          },
          "metadata": {},
          "execution_count": 17
        }
      ]
    },
    {
      "cell_type": "code",
      "metadata": {
        "id": "qpDvWivoqEo_"
      },
      "source": [
        "p = m/n "
      ],
      "execution_count": 18,
      "outputs": []
    },
    {
      "cell_type": "code",
      "metadata": {
        "colab": {
          "base_uri": "https://localhost:8080/"
        },
        "id": "WFW6PX25qMb7",
        "outputId": "a585cfa8-2cb3-4484-d7fc-33cc89ed70b7"
      },
      "source": [
        "p"
      ],
      "execution_count": 19,
      "outputs": [
        {
          "output_type": "execute_result",
          "data": {
            "text/plain": [
              "0.5727644652250146"
            ]
          },
          "metadata": {},
          "execution_count": 19
        }
      ]
    },
    {
      "cell_type": "markdown",
      "metadata": {
        "id": "r7WOjIWxqjA7"
      },
      "source": [
        "**а) Вероятность того, что среди трёх наугад выбранных вопросов студент знает все приблизительно 0,57 (57%)**"
      ]
    },
    {
      "cell_type": "markdown",
      "metadata": {
        "id": "MJs8s59yWDft"
      },
      "source": [
        "Вероятность того, что среди трёх наугад выбранных вопросов студент знает 2\n",
        "\n",
        "Возможны 3 варианта:\n",
        "\n",
        "1) Студент ответил на 1 и 2 вопрос и не ответил на 3.\n",
        "\n",
        "Вероятность вытащить 1 знакомый вопрос 50/60 = 5/6.\n",
        "\n",
        "Вероятность вытащить 2 знакомый вопрос 49/59\n",
        "\n",
        "Вероятность вытащить 3 незнакомый вопрос 10/58\n",
        "\n",
        "Общая вероятность\n",
        "\n"
      ]
    },
    {
      "cell_type": "code",
      "metadata": {
        "id": "NOU_9sJCYq-D"
      },
      "source": [
        "P1 = 5/6*49/59*5/29"
      ],
      "execution_count": 2,
      "outputs": []
    },
    {
      "cell_type": "code",
      "metadata": {
        "colab": {
          "base_uri": "https://localhost:8080/"
        },
        "id": "bh7FAjfzYvyZ",
        "outputId": "2278adf1-def7-4d16-fc39-c0ffa1ea995b"
      },
      "source": [
        "P1"
      ],
      "execution_count": 3,
      "outputs": [
        {
          "output_type": "execute_result",
          "data": {
            "text/plain": [
              "0.11932593025521138"
            ]
          },
          "metadata": {},
          "execution_count": 3
        }
      ]
    },
    {
      "cell_type": "markdown",
      "metadata": {
        "id": "MjatUg7KY3yM"
      },
      "source": [
        "2) Студент ответил на 1 и 3 вопрос и не ответил на 2.\n",
        "\n",
        "Вероятность вытащить 1 знакомый вопрос 50/60 = 5/6.\n",
        "\n",
        "Вероятность вытащить 2 незнакомый вопрос 10/59\n",
        "\n",
        "Вероятность вытащить 3 незнакомый вопрос 49/58\n",
        "\n",
        "Общая вероятность "
      ]
    },
    {
      "cell_type": "code",
      "metadata": {
        "id": "FD-RHGXFY9vA"
      },
      "source": [
        "P2 = 5/6*10/59*49/58"
      ],
      "execution_count": 4,
      "outputs": []
    },
    {
      "cell_type": "code",
      "metadata": {
        "colab": {
          "base_uri": "https://localhost:8080/"
        },
        "id": "yxFZS-oHY_X0",
        "outputId": "ce743443-2557-41d8-edf5-6ca7fa494815"
      },
      "source": [
        "P2"
      ],
      "execution_count": 5,
      "outputs": [
        {
          "output_type": "execute_result",
          "data": {
            "text/plain": [
              "0.11932593025521139"
            ]
          },
          "metadata": {},
          "execution_count": 5
        }
      ]
    },
    {
      "cell_type": "markdown",
      "metadata": {
        "id": "201zhpqUZGGb"
      },
      "source": [
        "3) Студент ответил на 2 и 3 вопрос и не ответил на 1.\n",
        "\n",
        "Вероятность вытащить 1 знакомый вопрос 10/60 = 1/6.\n",
        "\n",
        "Вероятность вытащить 2 незнакомый вопрос 50/59\n",
        "\n",
        "Вероятность вытащить 3 незнакомый вопрос 49/58\n",
        "\n",
        "Общая вероятность "
      ]
    },
    {
      "cell_type": "code",
      "metadata": {
        "id": "w59MfIb5ZFUb"
      },
      "source": [
        "P3 = 1/6*50/59*49/58"
      ],
      "execution_count": 6,
      "outputs": []
    },
    {
      "cell_type": "code",
      "metadata": {
        "colab": {
          "base_uri": "https://localhost:8080/"
        },
        "id": "NimF4b1QZNR-",
        "outputId": "3206ae7b-0c09-4bfd-88cd-1286a77f41c8"
      },
      "source": [
        "P3"
      ],
      "execution_count": 7,
      "outputs": [
        {
          "output_type": "execute_result",
          "data": {
            "text/plain": [
              "0.11932593025521135"
            ]
          },
          "metadata": {},
          "execution_count": 7
        }
      ]
    },
    {
      "cell_type": "markdown",
      "metadata": {
        "id": "8mNN1IZsZXyC"
      },
      "source": [
        "Все три вероятности одинаковы. Общая вероятность\n",
        "P=P1+P2+P3"
      ]
    },
    {
      "cell_type": "code",
      "metadata": {
        "id": "LDRFKKGfYN-G"
      },
      "source": [
        "P=P1+P2+P3"
      ],
      "execution_count": 8,
      "outputs": []
    },
    {
      "cell_type": "code",
      "metadata": {
        "colab": {
          "base_uri": "https://localhost:8080/"
        },
        "id": "frZS0v93Zkfy",
        "outputId": "dd2afd2b-00ba-4312-9e38-c263ea2082e8"
      },
      "source": [
        "P"
      ],
      "execution_count": 9,
      "outputs": [
        {
          "output_type": "execute_result",
          "data": {
            "text/plain": [
              "0.3579777907656341"
            ]
          },
          "metadata": {},
          "execution_count": 9
        }
      ]
    },
    {
      "cell_type": "markdown",
      "metadata": {
        "id": "7pU6QxqLZnvn"
      },
      "source": [
        "**б) Вероятность того, что среди трёх наугад выбранных вопросов студент знает 2 приблизительно равна 0,3579**"
      ]
    },
    {
      "cell_type": "markdown",
      "metadata": {
        "id": "IEnr3IhWaVEy"
      },
      "source": [
        "##Задача 5##"
      ]
    },
    {
      "cell_type": "markdown",
      "metadata": {
        "id": "rxXmtFaAaZlU"
      },
      "source": [
        "Бросается игральная кость. Пусть событие A - появление чётного числа, событие B - появление числа больше трёх. Являются ли эти события независимыми?"
      ]
    },
    {
      "cell_type": "markdown",
      "metadata": {
        "id": "21PDu9Z3bBPr"
      },
      "source": [
        "Вероятость события А -появление четного числа\n",
        "\n",
        "$P(A)=\\frac{3}{6}=\\frac{1}{2}$\n",
        "\n",
        "Вероятость события B -появление числа больше 3\n",
        "\n",
        "$P(B)=\\frac{3}{6}=\\frac{1}{2}$"
      ]
    },
    {
      "cell_type": "markdown",
      "metadata": {
        "id": "AMGuV7A4b4KN"
      },
      "source": [
        "$P(A)=P(B)$\n",
        "\n",
        "**Данные события являются зависимыми.**\n"
      ]
    }
  ]
}